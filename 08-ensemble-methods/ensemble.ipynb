{
 "cells": [
  {
   "cell_type": "markdown",
   "metadata": {},
   "source": [
    "**Ensemble methods** combine the predictions of multiple models to improve the overall performance of a model. Instead of relying on a single model, ensembles utilize multiple models (often weak learners) and aggregate their predictions to achieve a more accurate or stable result.\n",
    "\n",
    "The main ensemble methods are:\n",
    "\n",
    "- **Bagging (Bootstrap Aggregating)**\n",
    "- **Boosting**\n",
    "- **Stacking**\n",
    "\n",
    "\n",
    "Ensemble methods improve the performance of weak models by combining them into a stronger, more robust model. By aggregating the predictions from multiple models, the overall performance is enhanced.\n",
    "\n",
    "### Common Applications\n",
    "- **Classification**\n",
    "- **Regression**\n",
    "\n",
    "### Why Ensemble Methods?\n",
    "\n",
    "- **Reduce overfitting and variance**\n",
    "- **Improve model performance**\n",
    "\n"
   ]
  },
  {
   "cell_type": "markdown",
   "metadata": {},
   "source": []
  },
  {
   "cell_type": "markdown",
   "metadata": {},
   "source": [
    "\n",
    "**Bagging** (Bootstrap Aggregating) is an ensemble method that trains multiple models (typically of the same type) independently on different subsets of the data, which are created via bootstrapping. The final prediction is made by averaging the predictions for regression tasks or taking a vote for classification tasks.\n",
    "\n",
    "Bagging helps to **reduce variance** and is particularly effective with high-variance models, such as decision trees.\n",
    "\n",
    "### Steps of Bagging:\n",
    "\n",
    "1. **Generate multiple subsets** of the training dataset using random sampling with replacement (bootstrapping).\n",
    "2. **Train the same model** on each subset.\n",
    "3. **For classification**: Aggregate the results using a majority vote.\n",
    "   **For regression**: Take the average of the predictions.\n"
   ]
  },
  {
   "cell_type": "markdown",
   "metadata": {},
   "source": []
  }
 ],
 "metadata": {
  "language_info": {
   "name": "python"
  }
 },
 "nbformat": 4,
 "nbformat_minor": 2
}
