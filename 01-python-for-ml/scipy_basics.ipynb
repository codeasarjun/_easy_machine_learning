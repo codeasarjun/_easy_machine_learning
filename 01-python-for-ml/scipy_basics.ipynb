{
 "cells": [
  {
   "cell_type": "markdown",
   "metadata": {},
   "source": [
    "## What is SciPy?\n",
    "\n",
    "SciPy is an open-source Python library used for scientific and technical computing. It builds on NumPy and provides additional functionality for optimization, integration, interpolation, eigenvalue problems, and more. It is widely used in academia and industry for solving complex mathematical problems.\n",
    "\n",
    "## Why Do We Need SciPy?\n",
    "\n",
    "SciPy extends the capabilities of NumPy by providing more advanced mathematical algorithms and functions. It's particularly useful for:\n",
    "- **Optimization**: Finding the minimum or maximum of functions.\n",
    "- **Integration**: Computing integrals of functions.\n",
    "- **Interpolation**: Estimating values between data points.\n",
    "- **Statistics**: Performing statistical analysis.\n",
    "- **Linear Algebra**: Solving systems of linear equations, computing eigenvalues, etc.\n",
    "- **Signal Processing**: Filtering and analyzing signals.\n",
    "\n",
    "## Topics Covered in This Notebook\n",
    "\n",
    "1. **Optimization**: Finding the minimum of functions.\n",
    "2. **Integration**: Computing definite integrals of functions.\n",
    "3. **Interpolation**: Estimating unknown values based on known data points.\n",
    "4. **Statistics**: Performing statistical tests and analysis.\n",
    "5. **Linear Algebra**: Solving linear systems and working with matrices.\n",
    "6. **Signal Processing**: Filtering and analyzing signals.\n"
   ]
  },
  {
   "cell_type": "code",
   "execution_count": 1,
   "metadata": {},
   "outputs": [
    {
     "name": "stdout",
     "output_type": "stream",
     "text": [
      "Optimization Result:       fun: 0.0\n",
      " hess_inv: array([[0.5]])\n",
      "      jac: array([5.96046448e-08])\n",
      "  message: 'Optimization terminated successfully.'\n",
      "     nfev: 6\n",
      "      nit: 2\n",
      "     njev: 3\n",
      "   status: 0\n",
      "  success: True\n",
      "        x: array([2.00000002])\n"
     ]
    }
   ],
   "source": [
    "from scipy import optimize\n",
    "\n",
    "# a simple quadratic function\n",
    "def objective_function(x):\n",
    "    return x**2 - 4*x + 4\n",
    "\n",
    "#find the minimum of the function\n",
    "result = optimize.minimize(objective_function, x0=0)\n",
    "print(\"Optimization Result:\", result)"
   ]
  },
  {
   "cell_type": "code",
   "execution_count": 2,
   "metadata": {},
   "outputs": [
    {
     "name": "stdout",
     "output_type": "stream",
     "text": [
      "\n",
      "Integral of x^2 from 0 to 1: 0.33333333333333337\n"
     ]
    }
   ],
   "source": [
    "from scipy.integrate import quad\n",
    "\n",
    "# function to integrate\n",
    "def integrand(x):\n",
    "    return x**2\n",
    "\n",
    "# compute the integral of x^2 from 0 to 1\n",
    "integral, error = quad(integrand, 0, 1)\n",
    "print(\"\\nIntegral of x^2 from 0 to 1:\", integral)"
   ]
  },
  {
   "cell_type": "code",
   "execution_count": 3,
   "metadata": {},
   "outputs": [
    {
     "name": "stdout",
     "output_type": "stream",
     "text": [
      "\n",
      "Interpolated values: [0.         0.33333333 0.66666667 1.         2.         3.\n",
      " 4.         5.66666667 7.33333333 9.        ]\n"
     ]
    }
   ],
   "source": [
    "from scipy.interpolate import interp1d\n",
    "import numpy as np\n",
    "\n",
    "x = np.array([0, 1, 2, 3])\n",
    "y = np.array([0, 1, 4, 9])\n",
    "\n",
    "# create a linear interpolation function\n",
    "linear_interpolation = interp1d(x, y)\n",
    "\n",
    "# interpolate a value\n",
    "x_new = np.linspace(0, 3, num=10)\n",
    "y_new = linear_interpolation(x_new)\n",
    "\n",
    "print(\"\\nInterpolated values:\", y_new)\n"
   ]
  },
  {
   "cell_type": "code",
   "execution_count": 4,
   "metadata": {},
   "outputs": [
    {
     "name": "stdout",
     "output_type": "stream",
     "text": [
      "\n",
      "T-Test Results:\n",
      "T-Statistic: -10.0\n",
      "P-Value: 8.4881815276285e-06\n"
     ]
    }
   ],
   "source": [
    "from scipy import stats\n",
    "\n",
    "# define sample data\n",
    "sample1 = [20, 21, 22, 23, 24]\n",
    "sample2 = [30, 31, 32, 33, 34]\n",
    "\n",
    "# perform a t-test\n",
    "t_statistic, p_value = stats.ttest_ind(sample1, sample2)\n",
    "print(\"\\nT-Test Results:\")\n",
    "print(\"T-Statistic:\", t_statistic)\n",
    "print(\"P-Value:\", p_value)\n"
   ]
  },
  {
   "cell_type": "code",
   "execution_count": 5,
   "metadata": {},
   "outputs": [
    {
     "name": "stdout",
     "output_type": "stream",
     "text": [
      "\n",
      "Solution to the system of equations: [1.  3.5]\n"
     ]
    }
   ],
   "source": [
    "from scipy.linalg import solve\n",
    "\n",
    "# define coefficients of the system of equations\n",
    "A = np.array([[3, 2], [1, 2]])\n",
    "b = np.array([10, 8])\n",
    "\n",
    "# solve the system of equations\n",
    "solution = solve(A, b)\n",
    "print(\"\\nSolution to the system of equations:\", solution)\n"
   ]
  },
  {
   "cell_type": "code",
   "execution_count": 6,
   "metadata": {},
   "outputs": [
    {
     "name": "stdout",
     "output_type": "stream",
     "text": [
      "\n",
      "Filtered data: [-1.14798493e-04 -1.00129740e-03 -3.60113413e-03 -5.34872530e-03\n",
      "  6.82603392e-03  5.82459331e-02  1.75263887e-01  3.67020562e-01\n",
      "  6.14472239e-01  8.74272996e-01]\n"
     ]
    }
   ],
   "source": [
    "from scipy.signal import butter, lfilter\n",
    "\n",
    "# define a low-pass filter\n",
    "def butter_lowpass(cutoff, fs, order=5):\n",
    "    nyquist = 0.5 * fs\n",
    "    normal_cutoff = cutoff / nyquist\n",
    "    b, a = butter(order, normal_cutoff, btype='low', analog=False)\n",
    "    return b, a\n",
    "\n",
    "# apply the filter\n",
    "def butter_lowpass_filter(data, cutoff, fs, order=5):\n",
    "    b, a = butter_lowpass(cutoff, fs, order=order)\n",
    "    y = lfilter(b, a, data)\n",
    "    return y\n",
    "\n",
    "# sample data and filter parameters\n",
    "fs = 1000  # sample rate\n",
    "cutoff = 100  # desired cutoff frequency of the filter, Hz\n",
    "order = 6  # order of the filter\n",
    "\n",
    "# generate sample data\n",
    "data = np.sin(2 * np.pi * 50 * np.linspace(0, 1, fs)) + 0.5 * np.random.randn(fs)\n",
    "\n",
    "# filter the data\n",
    "filtered_data = butter_lowpass_filter(data, cutoff, fs, order)\n",
    "\n",
    "print(\"\\nFiltered data:\", filtered_data[:10])  # Display first 10 filtered data points\n"
   ]
  },
  {
   "cell_type": "code",
   "execution_count": null,
   "metadata": {},
   "outputs": [],
   "source": []
  }
 ],
 "metadata": {
  "kernelspec": {
   "display_name": "Python 3",
   "language": "python",
   "name": "python3"
  },
  "language_info": {
   "codemirror_mode": {
    "name": "ipython",
    "version": 3
   },
   "file_extension": ".py",
   "mimetype": "text/x-python",
   "name": "python",
   "nbconvert_exporter": "python",
   "pygments_lexer": "ipython3",
   "version": "3.9.7"
  }
 },
 "nbformat": 4,
 "nbformat_minor": 2
}
