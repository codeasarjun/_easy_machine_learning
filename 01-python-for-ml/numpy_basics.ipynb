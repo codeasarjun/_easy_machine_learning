{
 "cells": [
  {
   "cell_type": "markdown",
   "metadata": {},
   "source": [
    "# Introduction to NumPy\n",
    "\n",
    "NumPy (Numerical Python) is a powerful library in Python used for numerical computations. It provides support for arrays, matrices, and a collection of mathematical functions to operate on these data structures efficiently.\n",
    "\n",
    "In this notebook, we'll cover some key concepts and functionalities of NumPy that are essential for data science.\n",
    "\n",
    "## Key Points Covered:\n",
    "1. **Basic Operations**: Mean, sum, max, and min.\n",
    "2. **Reshape**: How to reshape arrays.\n",
    "3. **2D Arrays**: Creation, accessing elements, and slicing.\n",
    "4. **Array Operations**: Element-wise operations and broadcasting.\n",
    "5. **Linear Algebra**: Dot product, eigenvalues, and eigenvectors.\n",
    "6. **Random Numbers**: Generating random arrays.\n",
    "7. **Array Creation**: Arrays of zeros, ones, and identity matrices.\n",
    "8. **Array Properties**: Shape, dimensions, and data type.\n",
    "9. **Flattening and Raveling**: Flattening arrays.\n",
    "10. **Stacking and Concatenation**: Combining arrays.\n"
   ]
  },
  {
   "cell_type": "code",
   "execution_count": 1,
   "metadata": {},
   "outputs": [],
   "source": [
    "import numpy as np"
   ]
  },
  {
   "cell_type": "code",
   "execution_count": 2,
   "metadata": {},
   "outputs": [
    {
     "name": "stdout",
     "output_type": "stream",
     "text": [
      "Array: [1 2 3 4 5]\n"
     ]
    }
   ],
   "source": [
    "# NumPy array\n",
    "array = np.array([1, 2, 3, 4, 5])\n",
    "\n",
    "print(\"Array:\", array)"
   ]
  },
  {
   "cell_type": "code",
   "execution_count": 4,
   "metadata": {},
   "outputs": [
    {
     "name": "stdout",
     "output_type": "stream",
     "text": [
      "Mean: 3.0\n",
      "Sum: 15\n",
      "Max: 5\n",
      "Min: 1\n"
     ]
    }
   ],
   "source": [
    "# basic Statistics\n",
    "mean_value = np.mean(array)\n",
    "sum_value = np.sum(array)\n",
    "max_value = np.max(array)\n",
    "min_value = np.min(array)\n",
    "\n",
    "print(\"Mean:\", mean_value)\n",
    "print(\"Sum:\", sum_value)\n",
    "print(\"Max:\", max_value)\n",
    "print(\"Min:\", min_value)\n"
   ]
  },
  {
   "cell_type": "code",
   "execution_count": 7,
   "metadata": {},
   "outputs": [
    {
     "name": "stdout",
     "output_type": "stream",
     "text": [
      "Reshaped Array:\n",
      " [[1]\n",
      " [2]\n",
      " [3]\n",
      " [4]\n",
      " [5]]\n"
     ]
    }
   ],
   "source": [
    "# reshape the array\n",
    "#reshaping changes the structure of the array without altering its data. Here, a 1D array is reshaped into a 2D column vector.\n",
    "reshaped_array = array.reshape((5, 1))\n",
    "print(\"Reshaped Array:\\n\", reshaped_array)\n"
   ]
  },
  {
   "cell_type": "code",
   "execution_count": 8,
   "metadata": {},
   "outputs": [
    {
     "name": "stdout",
     "output_type": "stream",
     "text": [
      "2D Array:\n",
      " [[1 2 3]\n",
      " [4 5 6]]\n",
      "Element at (1, 2): 6\n",
      "First row: [1 2 3]\n",
      "First column: [1 4]\n",
      "Subarray:\n",
      " [[2 3]\n",
      " [5 6]]\n"
     ]
    }
   ],
   "source": [
    "# create a 2D array\n",
    "array_2d = np.array([[1, 2, 3], [4, 5, 6]])\n",
    "print(\"2D Array:\\n\", array_2d)\n",
    "\n",
    "# accessing elements\n",
    "print(\"Element at (1, 2):\", array_2d[1, 2])\n",
    "\n",
    "# slicing\n",
    "print(\"First row:\", array_2d[0])\n",
    "print(\"First column:\", array_2d[:, 0])\n",
    "print(\"Subarray:\\n\", array_2d[0:2, 1:3])\n"
   ]
  },
  {
   "cell_type": "code",
   "execution_count": 9,
   "metadata": {},
   "outputs": [
    {
     "name": "stdout",
     "output_type": "stream",
     "text": [
      "Sum of Arrays: [ 7  9 11 13 15]\n",
      "Product of Arrays: [ 6 14 24 36 50]\n"
     ]
    }
   ],
   "source": [
    "# element-wise operations\n",
    "array_2 = np.array([6, 7, 8, 9, 10])\n",
    "sum_arrays = array + array_2\n",
    "print(\"Sum of Arrays:\", sum_arrays)\n",
    "\n",
    "product_arrays = array * array_2\n",
    "print(\"Product of Arrays:\", product_arrays)\n"
   ]
  },
  {
   "cell_type": "markdown",
   "metadata": {},
   "source": [
    "Broadcasting allows operations between arrays of different shapes, automatically expanding the smaller array to match the larger one."
   ]
  },
  {
   "cell_type": "code",
   "execution_count": 10,
   "metadata": {},
   "outputs": [
    {
     "name": "stdout",
     "output_type": "stream",
     "text": [
      "Broadcasted Array: [11 12 13 14 15]\n"
     ]
    }
   ],
   "source": [
    "# broadcasting\n",
    "array_broadcasted = array + np.array([10])\n",
    "print(\"Broadcasted Array:\", array_broadcasted)\n"
   ]
  },
  {
   "cell_type": "code",
   "execution_count": 14,
   "metadata": {},
   "outputs": [
    {
     "name": "stdout",
     "output_type": "stream",
     "text": [
      "Dot Product:\n",
      " [[14 32]\n",
      " [32 77]]\n"
     ]
    }
   ],
   "source": [
    "# dot product\n",
    "dot_product = np.dot(array_2d, array_2d.T)\n",
    "print(\"Dot Product:\\n\", dot_product)\n"
   ]
  },
  {
   "cell_type": "code",
   "execution_count": 22,
   "metadata": {},
   "outputs": [
    {
     "name": "stdout",
     "output_type": "stream",
     "text": [
      "Eigenvalues: [-0.37228132  5.37228132]\n",
      "Eigenvectors:\n",
      " [[-0.82456484 -0.41597356]\n",
      " [ 0.56576746 -0.90937671]]\n"
     ]
    }
   ],
   "source": [
    "# eigenvalues and eigenvectors\n",
    "square_matrix = np.array([[1, 2],\n",
    "                          [3, 4]])\n",
    "eigenvalues, eigenvectors = np.linalg.eig(square_matrix)\n",
    "print(\"Eigenvalues:\", eigenvalues)\n",
    "print(\"Eigenvectors:\\n\", eigenvectors)"
   ]
  },
  {
   "cell_type": "code",
   "execution_count": 16,
   "metadata": {},
   "outputs": [
    {
     "name": "stdout",
     "output_type": "stream",
     "text": [
      "Random Array:\n",
      " [[0.61500437 0.29221769 0.76390692]\n",
      " [0.35028783 0.34384587 0.04808479]\n",
      " [0.11180452 0.90184044 0.52252257]]\n"
     ]
    }
   ],
   "source": [
    "# random Numbers\n",
    "random_array = np.random.rand(3, 3)  # random array of shape (3, 3) with values between 0 and 1\n",
    "print(\"Random Array:\\n\", random_array)\n"
   ]
  },
  {
   "cell_type": "code",
   "execution_count": 17,
   "metadata": {},
   "outputs": [
    {
     "name": "stdout",
     "output_type": "stream",
     "text": [
      "Zeros Array:\n",
      " [[0. 0. 0.]\n",
      " [0. 0. 0.]\n",
      " [0. 0. 0.]]\n",
      "Ones Array:\n",
      " [[1. 1. 1.]\n",
      " [1. 1. 1.]]\n",
      "Identity Matrix:\n",
      " [[1. 0. 0.]\n",
      " [0. 1. 0.]\n",
      " [0. 0. 1.]]\n"
     ]
    }
   ],
   "source": [
    "# creating arrays\n",
    "zeros_array = np.zeros((3, 3))  # array of zeros\n",
    "ones_array = np.ones((2, 3))    # array of ones\n",
    "identity_matrix = np.eye(3)     # identity matrix\n",
    "\n",
    "print(\"Zeros Array:\\n\", zeros_array)\n",
    "print(\"Ones Array:\\n\", ones_array)\n",
    "print(\"Identity Matrix:\\n\", identity_matrix)\n"
   ]
  },
  {
   "cell_type": "code",
   "execution_count": 18,
   "metadata": {},
   "outputs": [
    {
     "name": "stdout",
     "output_type": "stream",
     "text": [
      "Array Shape: (2, 3)\n",
      "Array Dimensions: 2\n",
      "Array Data Type: int32\n"
     ]
    }
   ],
   "source": [
    "# array Properties\n",
    "print(\"Array Shape:\", array_2d.shape)\n",
    "print(\"Array Dimensions:\", array_2d.ndim)\n",
    "print(\"Array Data Type:\", array_2d.dtype)\n"
   ]
  },
  {
   "cell_type": "code",
   "execution_count": 20,
   "metadata": {},
   "outputs": [
    {
     "name": "stdout",
     "output_type": "stream",
     "text": [
      "Flattened Array: [1 2 3 4 5 6]\n"
     ]
    }
   ],
   "source": [
    "# flattening and raveling\n",
    "#flattening converts a multi-dimensional array into a 1D array.\n",
    "flattened_array = array_2d.flatten()\n",
    "print(\"Flattened Array:\", flattened_array)\n"
   ]
  },
  {
   "cell_type": "code",
   "execution_count": 21,
   "metadata": {},
   "outputs": [
    {
     "name": "stdout",
     "output_type": "stream",
     "text": [
      "Stacked Vertically:\n",
      " [[1 2 3 4 5]\n",
      " [1 2 3 4 5]]\n",
      "Stacked Horizontally: [1 2 3 4 5 1 2 3 4 5]\n",
      "Concatenated Array: [ 1  2  3  4  5  6  7  8  9 10]\n"
     ]
    }
   ],
   "source": [
    "# stacking arrays\n",
    "stacked_v = np.vstack((array, array))\n",
    "stacked_h = np.hstack((array, array))\n",
    "\n",
    "print(\"Stacked Vertically:\\n\", stacked_v)\n",
    "print(\"Stacked Horizontally:\", stacked_h)\n",
    "\n",
    "# concatenation\n",
    "concatenated_array = np.concatenate((array, array_2), axis=0)\n",
    "print(\"Concatenated Array:\", concatenated_array)\n"
   ]
  },
  {
   "cell_type": "code",
   "execution_count": null,
   "metadata": {},
   "outputs": [],
   "source": []
  }
 ],
 "metadata": {
  "kernelspec": {
   "display_name": "Python 3",
   "language": "python",
   "name": "python3"
  },
  "language_info": {
   "codemirror_mode": {
    "name": "ipython",
    "version": 3
   },
   "file_extension": ".py",
   "mimetype": "text/x-python",
   "name": "python",
   "nbconvert_exporter": "python",
   "pygments_lexer": "ipython3",
   "version": "3.9.7"
  }
 },
 "nbformat": 4,
 "nbformat_minor": 2
}
