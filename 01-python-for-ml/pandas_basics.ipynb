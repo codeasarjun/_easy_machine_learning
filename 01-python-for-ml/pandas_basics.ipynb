{
 "cells": [
  {
   "cell_type": "markdown",
   "metadata": {},
   "source": [
    "# Introduction to Pandas\n",
    "\n",
    "Pandas is a powerful and flexible open-source data analysis and manipulation library for Python. It provides data structures and functions needed to work on structured data seamlessly. The primary data structures in pandas are:\n",
    "\n",
    "- **Series**: A one-dimensional labeled array capable of holding any data type.\n",
    "- **DataFrame**: A two-dimensional labeled data structure with columns of potentially different types, similar to a table in a relational database or a spreadsheet.\n",
    "\n",
    "Pandas is widely used for data cleaning, transformation, and analysis, making it an essential tool in data science and machine learning.\n",
    "\n",
    "## Operations Covered in This Notebook\n",
    "\n",
    "In this notebook, we will explore several key operations using a `DataFrame`, which is one of the core data structures in pandas. Here’s a summary of what we will cover:\n",
    "\n",
    "### Creating a DataFrame\n",
    "\n",
    "- Learn how to create a `DataFrame` from a dictionary of lists or arrays.\n",
    "- Understand the structure and content of the `DataFrame`.\n",
    "\n",
    "### Accessing Columns\n",
    "\n",
    "- Access individual columns by their labels.\n",
    "- Work with column data for further analysis.\n",
    "\n",
    "### Adding New Columns\n",
    "\n",
    "- Add new columns to an existing `DataFrame`.\n",
    "- Explore the impact of adding data to the `DataFrame`.\n",
    "\n",
    "### Calculating Basic Statistics\n",
    "\n",
    "- Use the `describe()` method to get summary statistics of numerical columns.\n",
    "- Understand common statistical measures such as mean, standard deviation, and percentiles.\n",
    "\n",
    "### Accessing Rows\n",
    "\n",
    "- Retrieve specific rows using `loc` (label-based indexing) and `iloc` (integer-based indexing).\n",
    "- Learn to select and inspect row data.\n",
    "\n",
    "### Filtering Data\n",
    "\n",
    "- Filter rows based on conditions.\n",
    "- Perform data selection based on logical criteria.\n",
    "\n",
    "### Grouping Data\n",
    "\n",
    "- Group data by one or more columns using the `groupby()` method.\n",
    "- Compute aggregate functions like mean and sum for grouped data.\n",
    "\n",
    "### Handling Missing Data\n",
    "\n",
    "- Identify and handle missing values in the `DataFrame`.\n",
    "- Use methods to drop or fill missing values.\n",
    "\n",
    "### Saving Data\n",
    "\n",
    "- Save the `DataFrame` to a CSV file for persistence.\n",
    "- Understand the importance of saving data for later use.\n",
    "\n",
    "### Reading Data\n",
    "\n",
    "- Read data from a CSV file into a `DataFrame`.\n",
    "- Explore how to load external data into pandas for analysis.\n"
   ]
  },
  {
   "cell_type": "code",
   "execution_count": 1,
   "metadata": {},
   "outputs": [],
   "source": [
    "import pandas as pd"
   ]
  },
  {
   "cell_type": "code",
   "execution_count": 2,
   "metadata": {},
   "outputs": [
    {
     "name": "stdout",
     "output_type": "stream",
     "text": [
      "DataFrame:\n",
      "       Name  Age         City\n",
      "0    Alice   25     New York\n",
      "1      Bob   30  Los Angeles\n",
      "2  Charlie   35      Chicago\n"
     ]
    }
   ],
   "source": [
    "# create a DataFrame\n",
    "data = {\n",
    "    'Name': ['Alice', 'Bob', 'Charlie'],\n",
    "    'Age': [25, 30, 35],\n",
    "    'City': ['New York', 'Los Angeles', 'Chicago']\n",
    "}\n",
    "df = pd.DataFrame(data)\n",
    "print(\"DataFrame:\\n\", df)"
   ]
  },
  {
   "cell_type": "code",
   "execution_count": 3,
   "metadata": {},
   "outputs": [
    {
     "name": "stdout",
     "output_type": "stream",
     "text": [
      "\n",
      "Ages:\n",
      " 0    25\n",
      "1    30\n",
      "2    35\n",
      "Name: Age, dtype: int64\n"
     ]
    }
   ],
   "source": [
    "# access a column\n",
    "print(\"\\nAges:\\n\", df['Age'])"
   ]
  },
  {
   "cell_type": "code",
   "execution_count": 4,
   "metadata": {},
   "outputs": [
    {
     "name": "stdout",
     "output_type": "stream",
     "text": [
      "\n",
      "DataFrame with Salary:\n",
      "       Name  Age         City  Salary\n",
      "0    Alice   25     New York   70000\n",
      "1      Bob   30  Los Angeles   80000\n",
      "2  Charlie   35      Chicago   90000\n"
     ]
    }
   ],
   "source": [
    "# adding a new column\n",
    "df['Salary'] = [70000, 80000, 90000]\n",
    "print(\"\\nDataFrame with Salary:\\n\", df)\n"
   ]
  },
  {
   "cell_type": "code",
   "execution_count": 5,
   "metadata": {},
   "outputs": [
    {
     "name": "stdout",
     "output_type": "stream",
     "text": [
      "\n",
      "Statistics:\n",
      "         Age   Salary\n",
      "count   3.0      3.0\n",
      "mean   30.0  80000.0\n",
      "std     5.0  10000.0\n",
      "min    25.0  70000.0\n",
      "25%    27.5  75000.0\n",
      "50%    30.0  80000.0\n",
      "75%    32.5  85000.0\n",
      "max    35.0  90000.0\n"
     ]
    }
   ],
   "source": [
    "# calculating basic statistics\n",
    "print(\"\\nStatistics:\\n\", df.describe())\n"
   ]
  },
  {
   "cell_type": "code",
   "execution_count": 6,
   "metadata": {},
   "outputs": [
    {
     "name": "stdout",
     "output_type": "stream",
     "text": [
      "\n",
      "Row 1:\n",
      " Name              Bob\n",
      "Age                30\n",
      "City      Los Angeles\n",
      "Salary          80000\n",
      "Name: 1, dtype: object\n",
      "\n",
      "Row 1 (using iloc):\n",
      " Name              Bob\n",
      "Age                30\n",
      "City      Los Angeles\n",
      "Salary          80000\n",
      "Name: 1, dtype: object\n"
     ]
    }
   ],
   "source": [
    "# accessing a row by label\n",
    "print(\"\\nRow 1:\\n\", df.loc[1])\n",
    "\n",
    "# accessing a row by integer index\n",
    "print(\"\\nRow 1 (using iloc):\\n\", df.iloc[1])\n"
   ]
  },
  {
   "cell_type": "code",
   "execution_count": 7,
   "metadata": {},
   "outputs": [
    {
     "name": "stdout",
     "output_type": "stream",
     "text": [
      "\n",
      "Filtered DataFrame:\n",
      "       Name  Age     City  Salary\n",
      "2  Charlie   35  Chicago   90000\n"
     ]
    }
   ],
   "source": [
    "# filtering data\n",
    "#For example, to find all rows where Age is greater than 30\n",
    "\n",
    "filtered_df = df[df['Age'] > 30]\n",
    "print(\"\\nFiltered DataFrame:\\n\", filtered_df)\n"
   ]
  },
  {
   "cell_type": "code",
   "execution_count": 9,
   "metadata": {},
   "outputs": [
    {
     "name": "stdout",
     "output_type": "stream",
     "text": [
      "\n",
      "Grouped DataFrame:\n",
      "               Age   Salary\n",
      "City                      \n",
      "Chicago      35.0  90000.0\n",
      "Los Angeles  30.0  80000.0\n",
      "New York     25.0  70000.0\n"
     ]
    }
   ],
   "source": [
    "# grouping  by 'City' and calculate mean salary\n",
    "#pandas allows us to group data and perform aggregate operations. For example, grouping by 'City'\n",
    "grouped_df = df.groupby('City').mean()\n",
    "print(\"\\nGrouped DataFrame:\\n\", grouped_df)\n"
   ]
  },
  {
   "cell_type": "code",
   "execution_count": 10,
   "metadata": {},
   "outputs": [
    {
     "name": "stdout",
     "output_type": "stream",
     "text": [
      "\n",
      "DataFrame after dropping missing values:\n",
      "       Name  Age         City  Salary\n",
      "0    Alice   25     New York   70000\n",
      "1      Bob   30  Los Angeles   80000\n",
      "2  Charlie   35      Chicago   90000\n"
     ]
    }
   ],
   "source": [
    "# drop rows with missing values\n",
    "df_cleaned = df.dropna()\n",
    "print(\"\\nDataFrame after dropping missing values:\\n\", df_cleaned)\n"
   ]
  },
  {
   "cell_type": "code",
   "execution_count": 11,
   "metadata": {},
   "outputs": [],
   "source": [
    "# saving DataFrame to CSV\n",
    "df.to_csv('data.csv', index=False)"
   ]
  },
  {
   "cell_type": "code",
   "execution_count": 12,
   "metadata": {},
   "outputs": [
    {
     "name": "stdout",
     "output_type": "stream",
     "text": [
      "\n",
      "DataFrame read from CSV:\n",
      "       Name  Age         City  Salary\n",
      "0    Alice   25     New York   70000\n",
      "1      Bob   30  Los Angeles   80000\n",
      "2  Charlie   35      Chicago   90000\n"
     ]
    }
   ],
   "source": [
    "# reading CSV file into DataFrame\n",
    "df_read = pd.read_csv('data.csv')\n",
    "print(\"\\nDataFrame read from CSV:\\n\", df_read)\n"
   ]
  },
  {
   "cell_type": "code",
   "execution_count": null,
   "metadata": {},
   "outputs": [],
   "source": []
  }
 ],
 "metadata": {
  "kernelspec": {
   "display_name": "Python 3",
   "language": "python",
   "name": "python3"
  },
  "language_info": {
   "codemirror_mode": {
    "name": "ipython",
    "version": 3
   },
   "file_extension": ".py",
   "mimetype": "text/x-python",
   "name": "python",
   "nbconvert_exporter": "python",
   "pygments_lexer": "ipython3",
   "version": "3.9.7"
  }
 },
 "nbformat": 4,
 "nbformat_minor": 2
}
