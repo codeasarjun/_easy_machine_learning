{
 "cells": [
  {
   "cell_type": "markdown",
   "metadata": {},
   "source": [
    "**Deep Learning** is a subset of machine learning that uses neural networks with many layers to learn from large amounts of data. These models can automatically discover representations from raw data, making them highly effective for complex tasks like image and speech recognition.\n",
    "\n",
    "### Example\n",
    "A deep learning model can be used to classify images of cats and dogs by learning from a dataset of labeled images. The model identifies features such as fur texture and ear shape to make accurate predictions on new images.\n",
    "\n",
    "We will cover following topics- \n",
    "\n",
    "1. Neural Networks\n",
    "    - Perceptron\n",
    "    - Multilayer Perceptron (MLP)\n",
    "2. Activation Functions\n",
    "    - Sigmoid Function\n",
    "    - ReLU (Rectified Linear Unit)\n",
    "    - Tanh Function\n",
    "3. Loss Functions\n",
    "    - Mean Squared Error (MSE)\n",
    "    - Cross-Entropy Loss\n",
    "4. Optimization Algorithms\n",
    "    - Gradient Descent\n",
    "    - Stochastic Gradient Descent (SGD)\n",
    "    - Adam Optimizer\n",
    "5. Training a Neural Network\n",
    "    - Forward Propagation\n",
    "    - Backward Propagation\n",
    "6. Overfitting and Regularization\n",
    "    - Overfitting\n",
    "    - Regularization Techniques\n"
   ]
  },
  {
   "cell_type": "markdown",
   "metadata": {},
   "source": [
    "**Perceptron** is the simplest type of artificial neural network, consisting of a single layer of weights and a bias term. It can classify data into two classes by applying a linear decision boundary.\n",
    "\n",
    "\n",
    "A perceptron is a binary classifier that outputs 1 if the weighted sum of inputs is greater than zero and 0 otherwise."
   ]
  },
  {
   "cell_type": "code",
   "execution_count": 3,
   "metadata": {},
   "outputs": [],
   "source": [
    "import warnings\n",
    "warnings.filterwarnings('ignore')"
   ]
  },
  {
   "cell_type": "code",
   "execution_count": 1,
   "metadata": {},
   "outputs": [
    {
     "name": "stdout",
     "output_type": "stream",
     "text": [
      "Output: 0\n"
     ]
    }
   ],
   "source": [
    "import numpy as np\n",
    "\n",
    "def perceptron(x, weights, bias):\n",
    "    linear_output = np.dot(x, weights) + bias\n",
    "    return 1 if linear_output > 0 else 0\n",
    "\n",
    "x = np.array([2, 3])\n",
    "weights = np.array([1, -1])\n",
    "bias = -1\n",
    "\n",
    "output = perceptron(x, weights, bias)\n",
    "print(\"Output:\", output)"
   ]
  },
  {
   "cell_type": "code",
   "execution_count": null,
   "metadata": {},
   "outputs": [],
   "source": []
  },
  {
   "cell_type": "markdown",
   "metadata": {},
   "source": [
    "\n",
    "`Multilayer Perceptron (MLP)` consists of multiple layers of neurons, including an input layer, one or more hidden layers, and an output layer. MLPs can model complex patterns through these multiple layers.\n",
    "\n",
    "An `MLP is a neural network with multiple layers` that can capture complex relationships in data."
   ]
  },
  {
   "cell_type": "code",
   "execution_count": 4,
   "metadata": {},
   "outputs": [
    {
     "name": "stdout",
     "output_type": "stream",
     "text": [
      "Predictions: [1 1 1 0]\n"
     ]
    }
   ],
   "source": [
    "from sklearn.neural_network import MLPClassifier\n",
    "\n",
    "X = [[0, 0], [0, 1], [1, 0], [1, 1]]\n",
    "y = [0, 1, 1, 0]  # XOR function\n",
    "\n",
    "model = MLPClassifier(hidden_layer_sizes=(2,), max_iter=1000)\n",
    "model.fit(X, y)\n",
    "\n",
    "predictions = model.predict(X)\n",
    "print(\"Predictions:\", predictions)\n"
   ]
  },
  {
   "cell_type": "code",
   "execution_count": null,
   "metadata": {},
   "outputs": [],
   "source": []
  },
  {
   "cell_type": "markdown",
   "metadata": {},
   "source": [
    "`Activation functions` introduce non-linearity into the network, enabling it to learn complex patterns.\n",
    "\n",
    "\n",
    "`Sigmoid Function` maps any input to a value between 0 and 1. It is often used in binary classification tasks.\n",
    "\n",
    "\\begin{equation*} \\sigma(x) = \\frac{1}{1 + e^{-x}} \\end{equation*}\n",
    "\n"
   ]
  },
  {
   "cell_type": "code",
   "execution_count": 5,
   "metadata": {},
   "outputs": [
    {
     "data": {
      "image/png": "[encoded data removed]",
      "text/plain": [
       "<Figure size 432x288 with 1 Axes>"
      ]
     },
     "metadata": {
      "needs_background": "light"
     },
     "output_type": "display_data"
    }
   ],
   "source": [
    "import matplotlib.pyplot as plt\n",
    "\n",
    "def sigmoid(x):\n",
    "    return 1 / (1 + np.exp(-x))\n",
    "\n",
    "x = np.linspace(-10, 10, 100)\n",
    "y = sigmoid(x)\n",
    "\n",
    "plt.plot(x, y)\n",
    "plt.title('Sigmoid Function')\n",
    "plt.xlabel('x')\n",
    "plt.ylabel('sigmoid(x)')\n",
    "plt.grid(True)\n",
    "plt.show()\n"
   ]
  },
  {
   "cell_type": "code",
   "execution_count": null,
   "metadata": {},
   "outputs": [],
   "source": []
  },
  {
   "cell_type": "markdown",
   "metadata": {},
   "source": [
    "\n",
    "`ReLU (Rectified Linear Unit)` outputs the input directly if it is positive; otherwise, it outputs zero. This function helps models train faster and perform better.\n",
    "\n",
    "The ReLU function is defined as: \n",
    "\\begin{equation*} \\text{ReLU}(x) = \\max(0, x) \\end{equation*}\n"
   ]
  },
  {
   "cell_type": "code",
   "execution_count": 6,
   "metadata": {},
   "outputs": [
    {
     "data": {
      "image/png": "[encoded data removed]",
      "text/plain": [
       "<Figure size 432x288 with 1 Axes>"
      ]
     },
     "metadata": {
      "needs_background": "light"
     },
     "output_type": "display_data"
    }
   ],
   "source": [
    "def relu(x):\n",
    "    return np.maximum(0, x)\n",
    "\n",
    "x = np.linspace(-10, 10, 100)\n",
    "y = relu(x)\n",
    "\n",
    "plt.plot(x, y)\n",
    "plt.title('ReLU Function')\n",
    "plt.xlabel('x')\n",
    "plt.ylabel('ReLU(x)')\n",
    "plt.grid(True)\n",
    "plt.show()\n"
   ]
  },
  {
   "cell_type": "markdown",
   "metadata": {},
   "source": [
    "`Tanh Function` maps any input to a value between -1 and 1. It is zero-centered, which can be beneficial in some cases.\n",
    "\n",
    "The tanh function is given by:\n",
    "\n",
    "\\begin{equation*} \\text{tanh}(x) = \\frac{e^x - e^{-x}}{e^x + e^{-x}} \\end{equation*}"
   ]
  },
  {
   "cell_type": "code",
   "execution_count": 7,
   "metadata": {},
   "outputs": [
    {
     "data": {
      "image/png": "[encoded data removed]",
      "text/plain": [
       "<Figure size 432x288 with 1 Axes>"
      ]
     },
     "metadata": {
      "needs_background": "light"
     },
     "output_type": "display_data"
    }
   ],
   "source": [
    "def tanh(x):\n",
    "    return np.tanh(x)\n",
    "\n",
    "x = np.linspace(-10, 10, 100)\n",
    "y = tanh(x)\n",
    "\n",
    "plt.plot(x, y)\n",
    "plt.title('Tanh Function')\n",
    "plt.xlabel('x')\n",
    "plt.ylabel('tanh(x)')\n",
    "plt.grid(True)\n",
    "plt.show()\n"
   ]
  },
  {
   "cell_type": "code",
   "execution_count": null,
   "metadata": {},
   "outputs": [],
   "source": []
  },
  {
   "cell_type": "markdown",
   "metadata": {},
   "source": []
  }
 ],
 "metadata": {
  "kernelspec": {
   "display_name": "Python 3",
   "language": "python",
   "name": "python3"
  },
  "language_info": {
   "codemirror_mode": {
    "name": "ipython",
    "version": 3
   },
   "file_extension": ".py",
   "mimetype": "text/x-python",
   "name": "python",
   "nbconvert_exporter": "python",
   "pygments_lexer": "ipython3",
   "version": "3.9.7"
  }
 },
 "nbformat": 4,
 "nbformat_minor": 2
}
