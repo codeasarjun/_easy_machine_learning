{
 "cells": [
  {
   "cell_type": "markdown",
   "metadata": {},
   "source": [
    "\n",
    "# What is TensorFlow?\n",
    "\n",
    "TensorFlow is an open-source machine learning framework developed by Google. It provides a comprehensive, flexible ecosystem of tools, libraries, and community resources that enable the development of machine learning (ML) models and applications.\n",
    "\n",
    "TensorFlow primarily works with tensors, which are multi-dimensional arrays or matrices. A tensor is essentially a generalization of vectors and matrices to higher dimensions. TensorFlow is widely used for both deep learning and traditional machine learning tasks like image recognition, text classification, recommendation systems, time series forecasting, and more.\n",
    "\n",
    "## Why Do We Use TensorFlow?\n",
    "\n",
    "TensorFlow is one of the most popular deep learning libraries for several reasons:\n",
    "\n",
    "- **Scalability**: TensorFlow can run on multiple CPUs and GPUs, and even across a cluster of machines. This allows it to scale efficiently for both small and large datasets.\n",
    "- **Flexibility**: TensorFlow supports both high-level APIs for quick model development (like Keras) and low-level APIs for custom model architecture and training procedures.\n",
    "- **Cross-Platform**: TensorFlow can be used on various platforms (desktops, servers, mobile devices, etc.), which makes it very versatile.\n",
    "- **Community Support**: TensorFlow has a large and active community, meaning there are plenty of tutorials, documentation, and open-source models to help you get started quickly.\n",
    "\n",
    "## Key Concepts in TensorFlow\n",
    "\n",
    "- **Tensors**: These are the basic data structures in TensorFlow. A tensor can be a scalar (a single number), a vector (a 1D array), a matrix (a 2D array), or even higher-dimensional data (like images).\n",
    "- **Operations (Ops)**: These are mathematical operations that you perform on tensors (e.g., addition, multiplication).\n",
    "- **Graph**: TensorFlow represents your computation as a data flow graph, where nodes are operations, and edges represent tensors.\n",
    "- **Sessions**: In earlier versions of TensorFlow (before 2.0), you needed a session to run your graph. In TensorFlow 2.x, eager execution is enabled by default, which means operations are evaluated immediately without needing sessions.\n"
   ]
  },
  {
   "cell_type": "markdown",
   "metadata": {},
   "source": [
    "# A simple text classification using TF"
   ]
  },
  {
   "cell_type": "code",
   "execution_count": null,
   "metadata": {},
   "outputs": [],
   "source": [
    "import tensorflow as tf\n",
    "from tensorflow.keras import layers, models\n",
    "from tensorflow.keras.datasets import imdb\n",
    "\n",
    "# load and preprocess the imdb dataset\n",
    "(x_train, y_train), (x_test, y_test) = imdb.load_data(num_words=10000)\n",
    "x_train = tf.keras.preprocessing.sequence.pad_sequences(x_train, padding='post', maxlen=500)\n",
    "x_test = tf.keras.preprocessing.sequence.pad_sequences(x_test, padding='post', maxlen=500)\n",
    "\n",
    "# build the model\n",
    "model = models.Sequential([\n",
    "    layers.Embedding(input_dim=10000, output_dim=128, input_length=500),  # embedding layer to convert words into vectors\n",
    "    layers.GlobalAveragePooling1D(),  # pooling layer to reduce dimensionality\n",
    "    layers.Dense(128, activation='relu'),  # dense layer with 128 units and relu activation\n",
    "    layers.Dense(1, activation='sigmoid')  # output layer for binary classification (positive/negative)\n",
    "])\n",
    "\n",
    "# compile the model\n",
    "model.compile(optimizer='adam', loss='binary_crossentropy', metrics=['accuracy'])\n",
    "\n",
    "# train the model\n",
    "model.fit(x_train, y_train, epochs=5, batch_size=32, validation_data=(x_test, y_test))\n",
    "\n",
    "# evaluate the model\n",
    "test_loss, test_acc = model.evaluate(x_test, y_test)\n",
    "print(f\"test accuracy: {test_acc:.4f}\")\n",
    "\n",
    "# make predictions\n",
    "predictions = model.predict(x_test[:5])\n",
    "for i in range(5):\n",
    "    print(f\"predicted sentiment: {'positive' if predictions[i] > 0.5 else 'negative'}, actual: {'positive' if y_test[i] == 1 else 'negative'}\")\n"
   ]
  },
  {
   "cell_type": "markdown",
   "metadata": {},
   "source": [
    "- The **Embedding** layer converts words into dense vectors of fixed size (128 in this case).\n",
    "- **GlobalAveragePooling1D** is used to reduce the dimensionality by averaging across the sequence, turning the 2D sequence into a 1D vector.\n",
    "- The **Dense** layers are fully connected layers with **ReLU** activation and a final **sigmoid** activation to output the probability of the review being positive.\n"
   ]
  },
  {
   "cell_type": "markdown",
   "metadata": {},
   "source": []
  }
 ],
 "metadata": {
  "language_info": {
   "name": "python"
  }
 },
 "nbformat": 4,
 "nbformat_minor": 2
}
