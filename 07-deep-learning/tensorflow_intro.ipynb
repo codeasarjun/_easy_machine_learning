{
 "cells": [
  {
   "cell_type": "markdown",
   "metadata": {},
   "source": [
    "```markdown\n",
    "# What is TensorFlow?\n",
    "\n",
    "TensorFlow is an open-source machine learning framework developed by Google. It provides a comprehensive, flexible ecosystem of tools, libraries, and community resources that enable the development of machine learning (ML) models and applications.\n",
    "\n",
    "TensorFlow primarily works with tensors, which are multi-dimensional arrays or matrices. A tensor is essentially a generalization of vectors and matrices to higher dimensions. TensorFlow is widely used for both deep learning and traditional machine learning tasks like image recognition, text classification, recommendation systems, time series forecasting, and more.\n",
    "\n",
    "## Why Do We Use TensorFlow?\n",
    "\n",
    "TensorFlow is one of the most popular deep learning libraries for several reasons:\n",
    "\n",
    "- **Scalability**: TensorFlow can run on multiple CPUs and GPUs, and even across a cluster of machines. This allows it to scale efficiently for both small and large datasets.\n",
    "- **Flexibility**: TensorFlow supports both high-level APIs for quick model development (like Keras) and low-level APIs for custom model architecture and training procedures.\n",
    "- **Cross-Platform**: TensorFlow can be used on various platforms (desktops, servers, mobile devices, etc.), which makes it very versatile.\n",
    "- **Community Support**: TensorFlow has a large and active community, meaning there are plenty of tutorials, documentation, and open-source models to help you get started quickly.\n",
    "\n",
    "## Key Concepts in TensorFlow\n",
    "\n",
    "- **Tensors**: These are the basic data structures in TensorFlow. A tensor can be a scalar (a single number), a vector (a 1D array), a matrix (a 2D array), or even higher-dimensional data (like images).\n",
    "- **Operations (Ops)**: These are mathematical operations that you perform on tensors (e.g., addition, multiplication).\n",
    "- **Graph**: TensorFlow represents your computation as a data flow graph, where nodes are operations, and edges represent tensors.\n",
    "- **Sessions**: In earlier versions of TensorFlow (before 2.0), you needed a session to run your graph. In TensorFlow 2.x, eager execution is enabled by default, which means operations are evaluated immediately without needing sessions.\n",
    "```"
   ]
  },
  {
   "cell_type": "markdown",
   "metadata": {},
   "source": []
  }
 ],
 "metadata": {
  "language_info": {
   "name": "python"
  }
 },
 "nbformat": 4,
 "nbformat_minor": 2
}
