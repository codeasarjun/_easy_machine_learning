{
 "cells": [
  {
   "cell_type": "markdown",
   "metadata": {},
   "source": [
    "Saving a machine learning model refers to the process of storing a trained model to disk or another storage medium so that it can be reused later without needing to retrain it. This is done after the model has been trained and is ready for deployment or further use. Popular methods to save models include Pickle and Joblib in Python."
   ]
  },
  {
   "cell_type": "markdown",
   "metadata": {},
   "source": []
  }
 ],
 "metadata": {
  "language_info": {
   "name": "python"
  }
 },
 "nbformat": 4,
 "nbformat_minor": 2
}
