{
 "cells": [
  {
   "cell_type": "markdown",
   "metadata": {},
   "source": [
    "Saving a machine learning model refers to the process of storing a trained model to disk or another storage medium so that it can be reused later without needing to retrain it. This is done after the model has been trained and is ready for deployment or further use. Popular methods to save models include Pickle and Joblib in Python."
   ]
  },
  {
   "cell_type": "markdown",
   "metadata": {},
   "source": [
    "## Loading a Machine Learning Model:\n",
    "Loading a machine learning model involves reading a previously saved model from storage and restoring it into memory for use. This allows you to make predictions, continue training, or evaluate the model without having to retrain it. Loading is typically done using the same tools that were used to save the model, such as Pickle or Joblib."
   ]
  },
  {
   "cell_type": "markdown",
   "metadata": {},
   "source": []
  }
 ],
 "metadata": {
  "language_info": {
   "name": "python"
  }
 },
 "nbformat": 4,
 "nbformat_minor": 2
}
