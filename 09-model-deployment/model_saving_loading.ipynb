{
 "cells": [
  {
   "cell_type": "markdown",
   "metadata": {},
   "source": [
    "Saving a machine learning model refers to the process of storing a trained model to disk or another storage medium so that it can be reused later without needing to retrain it. This is done after the model has been trained and is ready for deployment or further use. Popular methods to save models include Pickle and Joblib in Python."
   ]
  },
  {
   "cell_type": "markdown",
   "metadata": {},
   "source": [
    "## Loading a Machine Learning Model:\n",
    "Loading a machine learning model involves reading a previously saved model from storage and restoring it into memory for use. This allows you to make predictions, continue training, or evaluate the model without having to retrain it. Loading is typically done using the same tools that were used to save the model, such as Pickle or Joblib."
   ]
  },
  {
   "cell_type": "code",
   "execution_count": 1,
   "metadata": {},
   "outputs": [],
   "source": [
    "import joblib\n",
    "import pickle\n",
    "from sklearn.ensemble import RandomForestClassifier\n",
    "from sklearn.datasets import load_iris\n",
    "from sklearn.model_selection import train_test_split\n"
   ]
  },
  {
   "cell_type": "code",
   "execution_count": 2,
   "metadata": {},
   "outputs": [
    {
     "name": "stdout",
     "output_type": "stream",
     "text": [
      "Model accuracy: 1.0000\n"
     ]
    }
   ],
   "source": [
    "data = load_iris()\n",
    "X = data.data\n",
    "y = data.target\n",
    "\n",
    "X_train, X_test, y_train, y_test = train_test_split(X, y, test_size=0.2, random_state=42)\n",
    "\n",
    "model = RandomForestClassifier(n_estimators=100, random_state=42)\n",
    "model.fit(X_train, y_train)\n",
    "\n",
    "accuracy = model.score(X_test, y_test)\n",
    "print(f\"Model accuracy: {accuracy:.4f}\")\n"
   ]
  },
  {
   "cell_type": "code",
   "execution_count": 3,
   "metadata": {},
   "outputs": [
    {
     "name": "stdout",
     "output_type": "stream",
     "text": [
      "Model saved using pickle!\n"
     ]
    }
   ],
   "source": [
    "# save the model using pickle\n",
    "with open(\"model.pkl\", \"wb\") as file:\n",
    "    pickle.dump(model, file)\n",
    "\n",
    "print(\"Model saved using pickle!\")\n"
   ]
  },
  {
   "cell_type": "code",
   "execution_count": null,
   "metadata": {},
   "outputs": [],
   "source": [
    "# save the model using joblib\n",
    "joblib.dump(model, \"model.joblib\")\n",
    "\n",
    "print(\"Model saved using joblib!\")\n"
   ]
  },
  {
   "cell_type": "code",
   "execution_count": 4,
   "metadata": {},
   "outputs": [
    {
     "name": "stdout",
     "output_type": "stream",
     "text": [
      "Loaded model accuracy (Pickle): 1.0000\n"
     ]
    }
   ],
   "source": [
    "# load the model using pickle\n",
    "with open(\"model.pkl\", \"rb\") as file:\n",
    "    loaded_model_pickle = pickle.load(file)\n",
    "\n",
    "# evaluate the loaded model\n",
    "accuracy = loaded_model_pickle.score(X_test, y_test)\n",
    "print(f\"Loaded model accuracy (Pickle): {accuracy:.4f}\")\n"
   ]
  },
  {
   "cell_type": "code",
   "execution_count": null,
   "metadata": {},
   "outputs": [],
   "source": [
    "# load the model using joblib\n",
    "loaded_model_joblib = joblib.load(\"model.joblib\")\n",
    "\n",
    "# evaluate the loaded \n",
    "accuracy = loaded_model_joblib.score(X_test, y_test)\n",
    "print(f\"Loaded model accuracy (Joblib): {accuracy:.4f}\")\n"
   ]
  },
  {
   "cell_type": "code",
   "execution_count": null,
   "metadata": {},
   "outputs": [],
   "source": []
  }
 ],
 "metadata": {
  "kernelspec": {
   "display_name": "Python 3",
   "language": "python",
   "name": "python3"
  },
  "language_info": {
   "codemirror_mode": {
    "name": "ipython",
    "version": 3
   },
   "file_extension": ".py",
   "mimetype": "text/x-python",
   "name": "python",
   "nbconvert_exporter": "python",
   "pygments_lexer": "ipython3",
   "version": "3.9.7"
  }
 },
 "nbformat": 4,
 "nbformat_minor": 2
}
